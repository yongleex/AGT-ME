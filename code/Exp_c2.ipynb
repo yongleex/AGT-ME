{
 "cells": [
  {
   "cell_type": "code",
   "execution_count": 2,
   "metadata": {},
   "outputs": [],
   "source": [
    "import os\n",
    "import numpy as np\n",
    "import cv2\n",
    "import matplotlib.pyplot as plt\n",
    "import seaborn as sns\n",
    "\n",
    "sns.set_style()\n",
    "%matplotlib inline\n",
    "\n",
    "from methods.BIGC import blind_inverse_gamma_correction\n",
    "from methods.CAB import correct_average_brightness as cab\n",
    "from methods.AGT import adaptive_gamma_transform"
   ]
  },
  {
   "cell_type": "code",
   "execution_count": 3,
   "metadata": {},
   "outputs": [],
   "source": [
    "# Calculate the entropy of an image\n",
    "def entropy(img):\n",
    "    if img.ndim > 2:\n",
    "        gray = cv2.cvtColor(img,cv2.COLOR_BGR2GRAY)\n",
    "        #     hsv = cv2.cvtColor(img,cv2.COLOR_BGR2HSV)\n",
    "        #     gray = hsv[:,:,-1]\n",
    "    else:\n",
    "        gray = img\n",
    "\n",
    "    p = np.zeros(256)\n",
    "    \n",
    "    for i in range(256):\n",
    "        p[i] = np.sum(gray[:]==i).astype(float)/(gray.shape[0]*gray.shape[1])\n",
    "    \n",
    "    entropy = 0.0\n",
    "    for i in range(256):\n",
    "        if p[i]>0:\n",
    "            entropy -= p[i]*np.log(p[i])\n",
    "    return entropy"
   ]
  },
  {
   "cell_type": "code",
   "execution_count": 4,
   "metadata": {},
   "outputs": [
    {
     "data": {
      "text/plain": [
       "<function matplotlib.pyplot.show(close=None, block=None)>"
      ]
     },
     "execution_count": 4,
     "metadata": {},
     "output_type": "execute_result"
    },
    {
     "data": {
      "image/png": "[encoded data removed]",
      "text/plain": [
       "<Figure size 432x288 with 1 Axes>"
      ]
     },
     "metadata": {
      "needs_background": "light"
     },
     "output_type": "display_data"
    }
   ],
   "source": [
    "# Read the images and compute the entropy of each images\n",
    "image_path = [\"../images/camera/car/\",\"../images/camera/buildings/\"]\n",
    "gamma = 0.05*np.linspace(1,60,60)\n",
    "labels = [\"Toy\", \"Building\"]\n",
    "images = [list(),list()]\n",
    "entropies = [list(),list()]\n",
    "for i in range(2): # Toy and Building \n",
    "    for j in range(1,61):\n",
    "        img = cv2.imread(os.path.join(image_path[i],str(j)+\"image.bmp\"))\n",
    "        images[i].append(img)\n",
    "        entropies[i].append(entropy(img))\n",
    "        \n",
    "# plot the entropy VS gamma relationship for fun\n",
    "plt.figure()\n",
    "plt.plot(gamma, np.array(entropies[0]),label=labels[0])\n",
    "plt.plot(gamma, np.array(entropies[1]),label=labels[1])\n",
    "plt.xlabel(\"gamma\")\n",
    "plt.ylabel(\"entropy\")\n",
    "plt.legend()\n",
    "plt.grid()\n",
    "plt.show"
   ]
  },
  {
   "cell_type": "code",
   "execution_count": 5,
   "metadata": {},
   "outputs": [
    {
     "name": "stdout",
     "output_type": "stream",
     "text": [
      "********************\n",
      "Toy init: 5.459554845945166 0.75\n",
      "Toymax entropy 5.476656053066998 0.65\n",
      "2.6430517578124997\n",
      "Toy bigc: 3.9996583425997927 2.0\n",
      "Toy cab: 5.474435553982605 0.7000000000000001\n",
      "Toy agt: 5.476656053066998 0.65\n",
      "Toy agt-me-visual: 5.12216829806675 0.30000000000000004\n",
      "********************\n",
      "Building init: 5.1162988708690005 0.75\n",
      "Buildingmax entropy 5.156802787913433 0.8500000000000001\n",
      "3.971635742187499\n",
      "Building bigc: 3.6867429484020593 3.0\n",
      "Building cab: 5.149018185673942 0.9\n",
      "Building agt: 5.149018185673942 0.9\n",
      "Building agt-me-visual: 4.745860677577385 0.4\n"
     ]
    }
   ],
   "source": [
    "def imagewrite(image, string):\n",
    "    cv2.imwrite(\"temp.bmp\", image)\n",
    "    os.system(\"convert temp.bmp \" +string) # convert to eps for the manuscript\n",
    "    os.system(\"rm temp.bmp\")\n",
    "\n",
    "# Get the desired gamma \n",
    "gamma_init = 0.75\n",
    "# init_index = int(init_gamma/0.05) - 1\n",
    "label2 = [[\"a\",\"b\",\"c\",\"d\",\"e\",\"f\"],[\"g\",\"h\",\"i\",\"j\",\"k\",\"l\"]]\n",
    "for i in range(2):\n",
    "    print(\"*\"*20)\n",
    "    # read the initial image\n",
    "    index_init = np.round(gamma_init/0.05).astype(np.int) - 1\n",
    "    print(labels[i]+ \" init:\", entropies[i][index_init], gamma[index_init])\n",
    "    img_init = images[i][index_init]\n",
    "    imagewrite(img_init, \"Fig5_\"+label2[i][0]+\".eps\")\n",
    "    \n",
    "    img_init = cv2.cvtColor(img_init, cv2.COLOR_BGR2GRAY)\n",
    "\n",
    "    \n",
    "    # get the image with max entropy\n",
    "    index_max_entr = np.argmax(np.array(entropies[i]))\n",
    "    print(labels[i]+ \"max entropy\", entropies[i][index_max_entr], gamma[index_max_entr])\n",
    "    img_max_entr = images[i][index_max_entr]\n",
    "    imagewrite(img_max_entr, \"Fig5_\"+label2[i][1]+\".eps\")\n",
    "    \n",
    "    # BIGC method\n",
    "    gamma_correct, _ = blind_inverse_gamma_correction(img_init, visual=False)  \n",
    "    gamma_bigc = gamma_init * gamma_correct\n",
    "    index_bigc = np.round(gamma_bigc/0.05).astype(np.int) - 1\n",
    "    index_bigc = np.clip(index_bigc, 0, 59)\n",
    "    \n",
    "    print(labels[i]+ \" bigc:\", entropies[i][index_bigc], gamma[index_bigc])\n",
    "    img_bigc = images[i][index_bigc]\n",
    "    imagewrite(img_bigc, \"Fig5_\"+label2[i][2]+\".eps\")\n",
    "\n",
    "    \n",
    "    # CAB method\n",
    "    gamma_correct, _ =cab(img_init) \n",
    "    gamma_cab = gamma_init * gamma_correct\n",
    "    index_cab = np.round(gamma_cab/0.05).astype(np.int) - 1\n",
    "    \n",
    "    print(labels[i]+ \" cab:\", entropies[i][index_cab], gamma[index_cab])\n",
    "    img_cab = images[i][index_cab]\n",
    "    imagewrite(img_cab, \"Fig5_\"+label2[i][3]+\".eps\")\n",
    "            \n",
    "    # Test with AGT-ME method\n",
    "    gamma_correct, _ = adaptive_gamma_transform(img_init, visual=False)  \n",
    "    gamma_agt = gamma_init * gamma_correct\n",
    "    index_agt = np.round(gamma_agt/0.05).astype(np.int) - 1\n",
    "    \n",
    "    print(labels[i]+ \" agt:\", entropies[i][index_agt], gamma[index_agt])\n",
    "    img_agt = images[i][index_agt]\n",
    "    imagewrite(img_agt, \"Fig5_\"+label2[i][4]+\".eps\")\n",
    "    \n",
    "     # Test with AGT-ME-VISUAL method\n",
    "    gamma_correct, _ = adaptive_gamma_transform(img_init, visual=True)  \n",
    "    gamma_agt_visual = gamma_init * gamma_correct\n",
    "    index_agt_visual = np.round(gamma_agt_visual/0.05).astype(np.int) - 1\n",
    "    \n",
    "    print(labels[i]+ \" agt-me-visual:\", entropies[i][index_agt_visual], gamma[index_agt_visual])\n",
    "    img_agt_me = images[i][index_agt_visual]\n",
    "    imagewrite(img_agt_me, \"Fig5_\"+label2[i][5]+\".eps\")\n",
    "            "
   ]
  }
 ],
 "metadata": {
  "kernelspec": {
   "display_name": "Python 3",
   "language": "python",
   "name": "python3"
  },
  "language_info": {
   "codemirror_mode": {
    "name": "ipython",
    "version": 3
   },
   "file_extension": ".py",
   "mimetype": "text/x-python",
   "name": "python",
   "nbconvert_exporter": "python",
   "pygments_lexer": "ipython3",
   "version": "3.6.12"
  }
 },
 "nbformat": 4,
 "nbformat_minor": 2
}
